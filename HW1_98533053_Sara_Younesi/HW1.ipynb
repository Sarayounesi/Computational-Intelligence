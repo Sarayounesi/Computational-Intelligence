{
 "cells": [
  {
   "cell_type": "code",
   "execution_count": 1,
   "metadata": {},
   "outputs": [],
   "source": [
    "import numpy as np"
   ]
  },
  {
   "cell_type": "markdown",
   "metadata": {},
   "source": [
    "# Q1"
   ]
  },
  {
   "cell_type": "code",
   "execution_count": 5,
   "metadata": {},
   "outputs": [],
   "source": [
    "def element_wise_comparison(array1, array2):\n",
    "    \"\"\"\n",
    "    Perform element-wise comparisons between two NumPy arrays.\n",
    "\n",
    "    Parameters:\n",
    "    - array1 (numpy.ndarray): First input NumPy array.\n",
    "    - array2 (numpy.ndarray): Second input NumPy array.\n",
    "\n",
    "    Returns:\n",
    "    - tuple: A tuple of NumPy arrays containing the following element-wise comparison results:\n",
    "        - greater_result (numpy.ndarray): Element-wise greater than comparison.\n",
    "        - greater_equal_result (numpy.ndarray): Element-wise greater than or equal to comparison.\n",
    "        - less_result (numpy.ndarray): Element-wise less than comparison.\n",
    "        - less_equal_result (numpy.ndarray): Element-wise less than or equal to comparison.\n",
    "    \"\"\"\n",
    "    \n",
    "    # they return boolean true or false depend on condition    less_result = np.less(array1, array2)\n",
    "    less_equal_result = np.less_equal(array1, array2)\n",
    "    greater_result = np.greater(array1, array2)\n",
    "    greater_equal_result = np.greater_equal(array1, array2)\n",
    "    less_result = np.less(array1, array2)\n",
    "    \n",
    "\n",
    "    return greater_result, greater_equal_result, less_result, less_equal_result"
   ]
  },
  {
   "cell_type": "code",
   "execution_count": 6,
   "metadata": {},
   "outputs": [
    {
     "ename": "NameError",
     "evalue": "name 'element_wise_comparisons' is not defined",
     "output_type": "error",
     "traceback": [
      "\u001b[1;31m---------------------------------------------------------------------------\u001b[0m",
      "\u001b[1;31mNameError\u001b[0m                                 Traceback (most recent call last)",
      "\u001b[1;32m~\\AppData\\Local\\Temp\\ipykernel_67164\\1597042268.py\u001b[0m in \u001b[0;36m<module>\u001b[1;34m\u001b[0m\n\u001b[0;32m      2\u001b[0m \u001b[0marray2\u001b[0m \u001b[1;33m=\u001b[0m \u001b[0mnp\u001b[0m\u001b[1;33m.\u001b[0m\u001b[0marray\u001b[0m\u001b[1;33m(\u001b[0m\u001b[1;33m[\u001b[0m\u001b[1;33m[\u001b[0m\u001b[1;36m1\u001b[0m\u001b[1;33m,\u001b[0m \u001b[1;36m2\u001b[0m\u001b[1;33m]\u001b[0m\u001b[1;33m,\u001b[0m \u001b[1;33m[\u001b[0m\u001b[1;36m2\u001b[0m\u001b[1;33m,\u001b[0m \u001b[1;36m3\u001b[0m\u001b[1;33m]\u001b[0m\u001b[1;33m]\u001b[0m\u001b[1;33m)\u001b[0m\u001b[1;33m\u001b[0m\u001b[1;33m\u001b[0m\u001b[0m\n\u001b[0;32m      3\u001b[0m \u001b[1;33m\u001b[0m\u001b[0m\n\u001b[1;32m----> 4\u001b[1;33m \u001b[0mgreater\u001b[0m\u001b[1;33m,\u001b[0m \u001b[0mgreater_equal\u001b[0m\u001b[1;33m,\u001b[0m \u001b[0mless\u001b[0m\u001b[1;33m,\u001b[0m \u001b[0mless_equal\u001b[0m \u001b[1;33m=\u001b[0m \u001b[0melement_wise_comparisons\u001b[0m\u001b[1;33m(\u001b[0m\u001b[0marray1\u001b[0m\u001b[1;33m,\u001b[0m \u001b[0marray2\u001b[0m\u001b[1;33m)\u001b[0m\u001b[1;33m\u001b[0m\u001b[1;33m\u001b[0m\u001b[0m\n\u001b[0m\u001b[0;32m      5\u001b[0m \u001b[1;33m\u001b[0m\u001b[0m\n\u001b[0;32m      6\u001b[0m \u001b[0mprint\u001b[0m\u001b[1;33m(\u001b[0m\u001b[1;34m\"Greater than:\"\u001b[0m\u001b[1;33m)\u001b[0m\u001b[1;33m\u001b[0m\u001b[1;33m\u001b[0m\u001b[0m\n",
      "\u001b[1;31mNameError\u001b[0m: name 'element_wise_comparisons' is not defined"
     ]
    }
   ],
   "source": [
    "array1 = np.array([[1, 2], [3, 4]])\n",
    "array2 = np.array([[1, 2], [2, 3]])\n",
    "\n",
    "greater, greater_equal, less, less_equal = element_wise_comparisons(array1, array2)\n",
    "\n",
    "print(\"Greater than:\")\n",
    "print(greater)\n",
    "print(\"\\nGreater than or equal to:\")\n",
    "print(greater_equal)\n",
    "print(\"\\nLess than:\")\n",
    "print(less)\n",
    "print(\"\\nLess than or equal to:\")\n",
    "print(less_equal)"
   ]
  },
  {
   "cell_type": "markdown",
   "metadata": {},
   "source": [
    "# Q2"
   ]
  },
  {
   "cell_type": "code",
   "execution_count": null,
   "metadata": {},
   "outputs": [],
   "source": [
    "def array_multiply(array1, array2, method=\"element-wise\"):\n",
    "    \"\"\"\n",
    "    Perform multiplication between two NumPy arrays using the specified method.\n",
    "\n",
    "    Parameters:\n",
    "    - array1 (numpy.ndarray): First input NumPy array.\n",
    "    - array2 (numpy.ndarray): Second input NumPy array.\n",
    "    - method (str, optional): The multiplication method to use. Defaults to \"element-wise\".\n",
    "\n",
    "    Returns:\n",
    "    - numpy.ndarray: The result of the multiplication operation based on the chosen method.\n",
    "    \"\"\"\n",
    "    result = np.matmul(array1, array2) if method == 'matrix-multiply' else np.multiply(array1, array2)\n",
    "\n",
    "    return result"
   ]
  },
  {
   "cell_type": "code",
   "execution_count": null,
   "metadata": {},
   "outputs": [
    {
     "name": "stdout",
     "output_type": "stream",
     "text": [
      "Element-wise multiplication:\n",
      "[[2 0]\n",
      " [3 8]]\n",
      "\n",
      "Matrix multiplication:\n",
      "[[ 4  4]\n",
      " [10  8]]\n"
     ]
    }
   ],
   "source": [
    "array1 = np.array([[1, 2], [3, 4]])\n",
    "array2 = np.array([[2, 0], [1, 2]])\n",
    "\n",
    "# Perform element-wise multiplication\n",
    "element_wise_result = array_multiply(array1, array2, method=\"element-wise\")\n",
    "print(\"Element-wise multiplication:\")\n",
    "print(element_wise_result)\n",
    "\n",
    "# Perform matrix multiplication\n",
    "matrix_multiply_result = array_multiply(array1, array2, method=\"matrix-multiply\")\n",
    "print(\"\\nMatrix multiplication:\")\n",
    "print(matrix_multiply_result)"
   ]
  },
  {
   "cell_type": "markdown",
   "metadata": {},
   "source": [
    "# Q3"
   ]
  },
  {
   "cell_type": "code",
   "execution_count": null,
   "metadata": {},
   "outputs": [],
   "source": [
    "def broadcast_add(p, q, method=\"row-wise\"):\n",
    "\n",
    "    if method == 'row-wise':\n",
    "            q = q.reshape(1, p.shape[1])\n",
    "            result = p+q\n",
    "    if method == 'column-wise':\n",
    "            q = q.reshape(p.shape[0], 1)\n",
    "            result = p+q\n",
    "    \n",
    "    return result"
   ]
  },
  {
   "cell_type": "code",
   "execution_count": null,
   "metadata": {},
   "outputs": [
    {
     "name": "stdout",
     "output_type": "stream",
     "text": [
      "Row-wise addition:\n",
      "[[11 22 33]\n",
      " [14 25 36]\n",
      " [17 28 39]]\n",
      "\n",
      "Column-wise addition:\n",
      "[[11 12 13]\n",
      " [24 25 26]\n",
      " [37 38 39]]\n"
     ]
    }
   ],
   "source": [
    "# Example usage with different-shaped arrays\n",
    "p = np.array([[1, 2, 3], [4, 5, 6], [7, 8, 9]])\n",
    "q = np.array([10, 20, 30])\n",
    "\n",
    "# Add q row-wise to p\n",
    "row_wise_result = broadcast_add(p, q, method=\"row-wise\")\n",
    "print(\"Row-wise addition:\")\n",
    "print(row_wise_result)\n",
    "\n",
    "# Add q column-wise to p\n",
    "column_wise_result = broadcast_add(p, q, method=\"column-wise\")\n",
    "print(\"\\nColumn-wise addition:\")\n",
    "print(column_wise_result)"
   ]
  },
  {
   "cell_type": "markdown",
   "metadata": {},
   "source": [
    "# Q4"
   ]
  },
  {
   "cell_type": "code",
   "execution_count": null,
   "metadata": {},
   "outputs": [
    {
     "name": "stdout",
     "output_type": "stream",
     "text": [
      "Original Array:\n",
      "[[10  7  6  8]\n",
      " [ 8  6  1  8]\n",
      " [10  6  4  4]\n",
      " [10  4  2  6]]\n",
      "After normalization:\n",
      "[[1.         0.66666667 0.55555556 0.77777778]\n",
      " [0.77777778 0.55555556 0.         0.77777778]\n",
      " [1.         0.55555556 0.33333333 0.33333333]\n",
      " [1.         0.33333333 0.11111111 0.55555556]]\n"
     ]
    }
   ],
   "source": [
    "# Initialize the random matrix\n",
    "# x = \n",
    "x=np.random.randint(1,11,(4,4))\n",
    "\n",
    "print(\"Original Array:\")\n",
    "print(x)\n",
    "\n",
    "# Do the normalization\n",
    "s=(x-np.min(x))\n",
    "v=(np.max(x)-np.min(x))\n",
    "x=s/v\n",
    "\n",
    "\n",
    "print(\"After normalization:\")\n",
    "print(x)"
   ]
  },
  {
   "cell_type": "markdown",
   "metadata": {},
   "source": [
    "# Q5"
   ]
  },
  {
   "cell_type": "code",
   "execution_count": null,
   "metadata": {},
   "outputs": [
    {
     "name": "stdout",
     "output_type": "stream",
     "text": [
      "Answer 1 : \n",
      "0           NaN\n",
      "1      0.002145\n",
      "2     -0.013911\n",
      "3     -0.010884\n",
      "4      0.024109\n",
      "         ...   \n",
      "359   -0.006720\n",
      "360    0.015886\n",
      "361   -0.008170\n",
      "362   -0.006454\n",
      "363    0.011010\n",
      "Name: Closing Price, Length: 364, dtype: float64\n",
      "__________________________________________________________________________________________\n",
      "Answer 2 =-0.0005548260008486606 \n",
      "__________________________________________________________________________________________\n",
      "Answer 3 =0.009455978850317192 \n",
      "__________________________________________________________________________________________\n"
     ]
    }
   ],
   "source": [
    "import matplotlib.pyplot as plt\n",
    "import pandas as pd\n",
    "\n",
    "data_set = pd.read_csv('data.csv')\n",
    "last_day_return=data_set ['Closing Price'].shift(1)\n",
    "today_return=data_set['Closing Price']\n",
    "total_return = (last_day_return - today_return) / last_day_return\n",
    "print(\"Answer 1 : \")\n",
    "print(total_return)\n",
    "print(\"__________________________________________________________________________________________\")\n",
    "\n",
    "\n",
    "mean_total_returns = total_return.mean()\n",
    "print(f'Answer 2 ={mean_returns} ')\n",
    "print(\"__________________________________________________________________________________________\")\n",
    "\n",
    "\n",
    "\n",
    "std_total_returns=total_return.std()\n",
    "print(f'Answer 3 ={std_total_returns} ')\n",
    "print(\"__________________________________________________________________________________________\")\n"
   ]
  },
  {
   "cell_type": "code",
   "execution_count": null,
   "metadata": {},
   "outputs": [
    {
     "name": "stdout",
     "output_type": "stream",
     "text": [
      "__________________________________________________________________________________________\n",
      "Answer 2 =-0.0005548260008486606 \n",
      "__________________________________________________________________________________________\n",
      "Answer 3 =0.009455978850317192 \n",
      "__________________________________________________________________________________________\n"
     ]
    }
   ],
   "source": [
    "print(\"__________________________________________________________________________________________\")\n",
    "\n",
    "\n",
    "mean_total_returns = total_return.mean()\n",
    "print(f'Answer 2 ={mean_returns} ')\n",
    "print(\"__________________________________________________________________________________________\")\n",
    "\n",
    "\n",
    "\n",
    "std_total_returns=total_return.std()\n",
    "print(f'Answer 3 ={std_total_returns} ')\n",
    "print(\"__________________________________________________________________________________________\")\n"
   ]
  },
  {
   "cell_type": "code",
   "execution_count": null,
   "metadata": {},
   "outputs": [
    {
     "name": "stdout",
     "output_type": "stream",
     "text": [
      "Answer 4 :\n"
     ]
    },
    {
     "data": {
      "image/png": "[encoded data removed]",
      "text/plain": [
       "<Figure size 640x480 with 1 Axes>"
      ]
     },
     "metadata": {},
     "output_type": "display_data"
    },
    {
     "name": "stdout",
     "output_type": "stream",
     "text": [
      "__________________________________________________________________________________________\n",
      "Answer 5 :\n"
     ]
    },
    {
     "data": {
      "image/png": "[encoded data removed]",
      "text/plain": [
       "<Figure size 640x480 with 1 Axes>"
      ]
     },
     "metadata": {},
     "output_type": "display_data"
    }
   ],
   "source": [
    "print (\"Answer 4 :\")\n",
    "\n",
    "plt.plot(data_set['Closing Price'])\n",
    "plt.xlabel('TIME')\n",
    "plt.ylabel('PRICE CLOSING')\n",
    "plt.show()\n",
    "\n",
    "\n",
    "print(\"__________________________________________________________________________________________\")\n",
    "print (\"Answer 5 :\")\n",
    "plt.plot(total_return)\n",
    "plt.xlabel('TIME')\n",
    "plt.ylabel('RETURN DALY')\n",
    "plt.show()\n"
   ]
  },
  {
   "cell_type": "code",
   "execution_count": null,
   "metadata": {},
   "outputs": [
    {
     "name": "stdout",
     "output_type": "stream",
     "text": [
      "__________________________________________________________________________________________\n",
      "Answer 6 :\n",
      "Day Max Return: 4/16/2023\n",
      "Max Return Val: 0.028963574613605738\n",
      "Day Min Return : 11/9/2023\n",
      "Min Return Va:-0.02878633838810639\n",
      "__________________________________________________________________________________________\n",
      "Answer 7 :\n",
      "Day Max Pr:11/29/2023\n",
      "Max Pr Val: 124.6180108\n",
      "Day Min Pr: 4/16/2023\n",
      "Min Pr Val: 82.96821012\n"
     ]
    }
   ],
   "source": [
    "\n",
    "print(\"__________________________________________________________________________________________\")\n",
    "print (\"Answer 6 :\")\n",
    "\n",
    "\n",
    "print(f\"Day Max Return: {data_set['Date'][max_return_day]}\")\n",
    "print(f\"Max Return Val: {returns.loc[returns.idxmax()]}\")\n",
    "print(f\"Day Min Return : {data_set['Date'][min_return_day]}\")\n",
    "print(f\"Min Return Va:{returns.loc[returns.idxmin()]}\")\n",
    "\n",
    "\n",
    "\n",
    "print(\"__________________________________________________________________________________________\")\n",
    "print (\"Answer 7 :\")\n",
    "\n",
    "\n",
    "Pr_Max = data.loc[data_set['Closing Price'].idxmax(), 'Date']\n",
    "Val_Max = data.loc[data_set['Closing Price'].idxmax(), 'Closing Price']\n",
    "\n",
    "Pr_Min = data.loc[data_set['Closing Price'].idxmin(), 'Date']\n",
    "Val_Min = data.loc[data_set['Closing Price'].idxmin(), 'Closing Price']\n",
    "\n",
    "print(f\"Day Max Pr:{Pr_Max}\")\n",
    "print(f\"Max Pr Val: {Val_Max}\")\n",
    "print(f\"Day Min Pr: {Pr_Min}\")\n",
    "print(f\"Min Pr Val: {Val_Min}\")"
   ]
  },
  {
   "cell_type": "markdown",
   "metadata": {},
   "source": [
    "# Q6"
   ]
  },
  {
   "cell_type": "code",
   "execution_count": null,
   "metadata": {},
   "outputs": [],
   "source": [
    "def for_loop_feed_forward(X, w):\n",
    "    \"\"\"\n",
    "    Perform a feed-forward operation using a for loop.\n",
    "\n",
    "    Parameters:\n",
    "    - X (numpy.ndarray): Input data matrix of shape (num_samples, num_features).\n",
    "    - w (numpy.ndarray): Weight matrix of shape (num_features, 1).\n",
    "\n",
    "    Returns:\n",
    "    - numpy.ndarray: Output matrix of shape (num_samples, 1).\n",
    "    \"\"\"\n",
    "    \n",
    "    outputs = np.zeros((X.shape[0], 1))\n",
    "    for i in range(0, X.shape[0]):\n",
    "        s = 0\n",
    "        for j in range(0, X.shape[1]):\n",
    "            outputs[i] += X[i][j] * w[j]\n",
    "    \n",
    "    return outputs\n",
    "\n",
    "def vectorized_feed_forward(X, w):\n",
    "    \"\"\"\n",
    "    Perform a feed-forward operation using vectorization.\n",
    "\n",
    "    Parameters:\n",
    "    - X (numpy.ndarray): Input data matrix of shape (num_samples, num_features).\n",
    "    - w (numpy.ndarray): Weight matrix of shape (num_features, 1).\n",
    "\n",
    "    Returns:\n",
    "    - numpy.ndarray: Output matrix of shape (num_samples, 1).\n",
    "    \"\"\"\n",
    "    outputs = np.dot(X, w)\n",
    "\n",
    "    return outputs"
   ]
  },
  {
   "cell_type": "code",
   "execution_count": null,
   "metadata": {},
   "outputs": [
    {
     "name": "stdout",
     "output_type": "stream",
     "text": [
      "Time spent on calculating the outputs using for loops: \n",
      "1.269533395767212\n",
      "Time spent on calculating the outputs using vectorization: \n",
      "0.0010433197021484375\n"
     ]
    }
   ],
   "source": [
    "import time\n",
    "\n",
    "# generate random samples\n",
    "\n",
    "X = np.random.rand(1000, 500)\n",
    "w = np.random.rand(500, 1)\n",
    "\n",
    "start_time = time.time()\n",
    "outputs = for_loop_feed_forward(X, w)\n",
    "\n",
    "print(\"Time spent on calculating the outputs using for loops: \")\n",
    "print(time.time() - start_time)\n",
    "\n",
    "start_time = time.time()\n",
    "outputs = vectorized_feed_forward(X, w)\n",
    "\n",
    "print(\"Time spent on calculating the outputs using vectorization: \")\n",
    "print(time.time() - start_time)"
   ]
  },
  {
   "cell_type": "markdown",
   "metadata": {},
   "source": [
    "# Q7"
   ]
  },
  {
   "cell_type": "code",
   "execution_count": null,
   "metadata": {},
   "outputs": [],
   "source": [
    "def replace_elements_above_threshold(array, threshold):\n",
    "    \"\"\"\n",
    "    Replace elements in a NumPy array that are higher than the given threshold with a specified value.\n",
    "\n",
    "    Parameters:\n",
    "    - array (numpy.ndarray): Input NumPy array.\n",
    "    - threshold (float): Threshold value to compare elements with.\n",
    "\n",
    "    Returns:\n",
    "    - numpy.ndarray: NumPy array with elements replaced above the threshold.\n",
    "    \"\"\"\n",
    "\n",
    "    UP = 0\n",
    "    HiGH = 1\n",
    "    \n",
    "    dics ={ \"UP\":0,\"HIGH\":1}\n",
    "    modified_arr=np.where(array>threshold,HiGH,UP)\n",
    "    return modified_arr"
   ]
  },
  {
   "cell_type": "code",
   "execution_count": null,
   "metadata": {},
   "outputs": [
    {
     "name": "stdout",
     "output_type": "stream",
     "text": [
      "[[0 0 0]\n",
      " [0 0 1]\n",
      " [1 1 1]]\n"
     ]
    }
   ],
   "source": [
    "input_array = np.array([[1, 2, 3], [4, 5, 6], [7, 8, 9]])\n",
    "threshold_value = 5\n",
    "result_array = replace_elements_above_threshold(input_array, threshold_value)\n",
    "print(result_array)"
   ]
  },
  {
   "cell_type": "markdown",
   "metadata": {},
   "source": [
    "# Q8"
   ]
  },
  {
   "cell_type": "code",
   "execution_count": null,
   "metadata": {},
   "outputs": [],
   "source": [
    "class Matrix:\n",
    "    def __init__(self, matrix):\n",
    "\n",
    "        self.values = matrix\n",
    "\n",
    "    def is_equal(self, second_matrix):\n",
    "\n",
    "        if not (len(self.values) == len(second_matrix.values) and len(self.values[0]) == len(second_matrix.values[0])):\n",
    "            return False\n",
    "        res = True\n",
    "        num1 = len(self.values)\n",
    "        num2 = len(self.values[0])\n",
    "        for i in range(num1):\n",
    "            for j in range(num2):\n",
    "                if self.values[i][j] != second_matrix.values[i][j]:\n",
    "                    res = False\n",
    "                    break\n",
    "            if not res:\n",
    "           \n",
    "                break\n",
    "        return res\n",
    "    \n",
    "    def is_higher_elementwise(self, second_matrix):\n",
    "        num1 = (len(self.values[0]))\n",
    "        num2 = (len(self.values))\n",
    "\n",
    "        res = [[True if self.values[i][j] > second_matrix.values[i][j] else False \\\n",
    "                         for j in range (num1)] \n",
    "                               for i in range (num2)]\n",
    "        return res\n",
    "    \n",
    "    def is_subset(self, second_matrix):\n",
    "        num1 = len(self.values)\n",
    "        num2 = len(self.values[0])\n",
    "        num3 = len(second_matrix.values)\n",
    "        num4 = len(second_matrix.values[0]) \n",
    "        cutShape = (num1, num2)\n",
    "        restrict = (num3, num4)\n",
    "        \n",
    "        part1 = cutShape[0]\n",
    "        part2 = restrict[0] \n",
    "         \n",
    "        if part1 > part2 :\n",
    "            return False\n",
    "        \n",
    "        if cutShape[1] > restrict[1] :\n",
    "            return False\n",
    "\n",
    "\n",
    "        for i in range(part2-part1 + 1):\n",
    "            \n",
    "            for j in range(restrict[1] - cutShape[1] + 1):\n",
    "                \n",
    "                 \n",
    "                if Matrix([row[j:j+cutShape[1]] for row in second_matrix.values[i:i+part1]]).is_equal(self):\n",
    "                    return True\n",
    "        return False  \n",
    "\n",
    "    def dot_product(self, second_matrix):\n",
    "        \n",
    "        num1 = len(self.values[0])\n",
    "        num2 = len(second_matrix.values)\n",
    "        num3 = (len(second_matrix.values[0]))\n",
    "        num4 = (len(self.values))\n",
    "\n",
    "        res = [[0 for j in range(num3)] for i in range (num4)]\n",
    "\n",
    "        if num1 != num2:\n",
    "            raise ValueError('Cant Dot Together')\n",
    "        \n",
    "        for i in range(num4):\n",
    "            for j in range(num1):\n",
    "                row = self.values[i]\n",
    "                column = [row[j] for row in second_matrix.values]\n",
    "                part =0\n",
    "                for k in range(len(row)):\n",
    "                    part += row[k] * column[k]\n",
    "                res[i][j] = part\n",
    "        return res"
   ]
  },
  {
   "cell_type": "code",
   "execution_count": null,
   "metadata": {},
   "outputs": [
    {
     "name": "stdout",
     "output_type": "stream",
     "text": [
      "False\n",
      "True\n"
     ]
    }
   ],
   "source": [
    "matrix1 = Matrix([[1, 2, 3], [4, 5, 6], [7, 8, 9]])\n",
    "matrix2 = Matrix([[0, 0, 0], [4, 5, 6], [7, 8, 9]])\n",
    "\n",
    "print (matrix1.is_equal(matrix2))\n",
    "print (matrix1.is_equal(matrix1))\n",
    "\n",
    "\n",
    "\n",
    "# test equality of matrices here and show the result #\n"
   ]
  },
  {
   "cell_type": "code",
   "execution_count": null,
   "metadata": {},
   "outputs": [
    {
     "name": "stdout",
     "output_type": "stream",
     "text": [
      "[[True, True, True], [False, False, False], [False, False, False]]\n",
      "[[True, True, True], [False, False, False], [True, False, False]]\n"
     ]
    }
   ],
   "source": [
    "matrix3 = Matrix([[0, 0, 0], [10, 20, 30], [-1, 8, 10]])\n",
    "\n",
    "# test proportion of matrices here and show the result #\n",
    "\n",
    "\n",
    "print(matrix1.is_higher_elementwise(matrix2))\n",
    "print(matrix1.is_higher_elementwise(matrix3))\n"
   ]
  },
  {
   "cell_type": "code",
   "execution_count": null,
   "metadata": {},
   "outputs": [
    {
     "name": "stdout",
     "output_type": "stream",
     "text": [
      "True\n",
      "True\n",
      "False\n",
      "False\n",
      "False\n",
      "False\n"
     ]
    }
   ],
   "source": [
    "matrix4 = Matrix([[5, 6], [8, 9]])\n",
    "matrix5 = Matrix([[1, 2], [4, 5]])\n",
    "matrix6 = Matrix([[1, 2], [3, 4]])\n",
    "\n",
    "# test subset of matrices here and show the result #\n",
    "print(matrix4.is_subset(matrix1))\n",
    "print(matrix5.is_subset(matrix1))\n",
    "print(matrix6.is_subset(matrix1))\n",
    "print(matrix5.is_subset(matrix2))\n",
    "print(matrix6.is_subset(matrix2))\n",
    "print(matrix5.is_subset(matrix2))\n",
    "\n",
    "\n",
    "\n"
   ]
  },
  {
   "cell_type": "code",
   "execution_count": 8,
   "metadata": {},
   "outputs": [
    {
     "ename": "NameError",
     "evalue": "name 'Matrix' is not defined",
     "output_type": "error",
     "traceback": [
      "\u001b[1;31m---------------------------------------------------------------------------\u001b[0m",
      "\u001b[1;31mNameError\u001b[0m                                 Traceback (most recent call last)",
      "\u001b[1;32m~\\AppData\\Local\\Temp\\ipykernel_67164\\4240379884.py\u001b[0m in \u001b[0;36m<module>\u001b[1;34m\u001b[0m\n\u001b[1;32m----> 1\u001b[1;33m \u001b[0mmatrix7\u001b[0m \u001b[1;33m=\u001b[0m \u001b[0mMatrix\u001b[0m\u001b[1;33m(\u001b[0m\u001b[1;33m[\u001b[0m\u001b[1;33m[\u001b[0m\u001b[1;36m3\u001b[0m\u001b[1;33m,\u001b[0m \u001b[1;36m1\u001b[0m\u001b[1;33m]\u001b[0m\u001b[1;33m,\u001b[0m \u001b[1;33m[\u001b[0m\u001b[1;36m2\u001b[0m\u001b[1;33m,\u001b[0m \u001b[1;36m4\u001b[0m\u001b[1;33m]\u001b[0m\u001b[1;33m,\u001b[0m \u001b[1;33m[\u001b[0m\u001b[1;33m-\u001b[0m\u001b[1;36m1\u001b[0m\u001b[1;33m,\u001b[0m \u001b[1;36m5\u001b[0m\u001b[1;33m]\u001b[0m\u001b[1;33m]\u001b[0m\u001b[1;33m)\u001b[0m\u001b[1;33m\u001b[0m\u001b[1;33m\u001b[0m\u001b[0m\n\u001b[0m\u001b[0;32m      2\u001b[0m \u001b[0mmatrix8\u001b[0m \u001b[1;33m=\u001b[0m \u001b[0mMatrix\u001b[0m\u001b[1;33m(\u001b[0m\u001b[1;33m[\u001b[0m\u001b[1;33m[\u001b[0m\u001b[1;36m3\u001b[0m\u001b[1;33m,\u001b[0m \u001b[1;36m1\u001b[0m\u001b[1;33m]\u001b[0m\u001b[1;33m,\u001b[0m \u001b[1;33m[\u001b[0m\u001b[1;36m2\u001b[0m\u001b[1;33m,\u001b[0m \u001b[1;36m4\u001b[0m\u001b[1;33m]\u001b[0m\u001b[1;33m]\u001b[0m\u001b[1;33m)\u001b[0m\u001b[1;33m\u001b[0m\u001b[1;33m\u001b[0m\u001b[0m\n\u001b[0;32m      3\u001b[0m \u001b[1;33m\u001b[0m\u001b[0m\n\u001b[0;32m      4\u001b[0m \u001b[0mmatrix10\u001b[0m \u001b[1;33m=\u001b[0m \u001b[0mMatrix\u001b[0m\u001b[1;33m(\u001b[0m\u001b[1;33m[\u001b[0m\u001b[1;33m[\u001b[0m\u001b[1;36m1\u001b[0m\u001b[1;33m,\u001b[0m \u001b[1;36m1\u001b[0m \u001b[1;33m]\u001b[0m \u001b[1;33m,\u001b[0m\u001b[1;33m[\u001b[0m\u001b[1;36m1\u001b[0m\u001b[1;33m,\u001b[0m \u001b[1;36m1\u001b[0m \u001b[1;33m]\u001b[0m\u001b[1;33m,\u001b[0m\u001b[1;33m[\u001b[0m\u001b[1;36m1\u001b[0m\u001b[1;33m,\u001b[0m \u001b[1;36m1\u001b[0m \u001b[1;33m]\u001b[0m\u001b[1;33m]\u001b[0m\u001b[1;33m)\u001b[0m\u001b[1;33m\u001b[0m\u001b[1;33m\u001b[0m\u001b[0m\n\u001b[0;32m      5\u001b[0m \u001b[0mmatrix11\u001b[0m \u001b[1;33m=\u001b[0m \u001b[0mMatrix\u001b[0m\u001b[1;33m(\u001b[0m\u001b[1;33m[\u001b[0m\u001b[1;33m[\u001b[0m\u001b[1;36m1\u001b[0m\u001b[1;33m,\u001b[0m\u001b[1;36m1\u001b[0m\u001b[1;33m,\u001b[0m\u001b[1;36m1\u001b[0m\u001b[1;33m,\u001b[0m\u001b[1;36m1\u001b[0m\u001b[1;33m]\u001b[0m\u001b[1;33m,\u001b[0m \u001b[1;33m[\u001b[0m\u001b[1;36m1\u001b[0m\u001b[1;33m,\u001b[0m\u001b[1;36m1\u001b[0m\u001b[1;33m,\u001b[0m\u001b[1;36m1\u001b[0m\u001b[1;33m,\u001b[0m\u001b[1;36m1\u001b[0m\u001b[1;33m]\u001b[0m\u001b[1;33m]\u001b[0m\u001b[1;33m)\u001b[0m\u001b[1;33m\u001b[0m\u001b[1;33m\u001b[0m\u001b[0m\n",
      "\u001b[1;31mNameError\u001b[0m: name 'Matrix' is not defined"
     ]
    }
   ],
   "source": [
    "matrix7 = Matrix([[3, 1], [2, 4], [-1, 5]])\n",
    "matrix8 = Matrix([[3, 1], [2, 4]])\n",
    "\n",
    "\n",
    "\n",
    "# test product of matrices here and show the result #\n",
    "print(matrix7.dot_product(matrix8))\n",
    "\n",
    "\n"
   ]
  }
 ],
 "metadata": {
  "kernelspec": {
   "display_name": "base",
   "language": "python",
   "name": "python3"
  },
  "language_info": {
   "codemirror_mode": {
    "name": "ipython",
    "version": 3
   },
   "file_extension": ".py",
   "mimetype": "text/x-python",
   "name": "python",
   "nbconvert_exporter": "python",
   "pygments_lexer": "ipython3",
   "version": "3.9.13"
  },
  "orig_nbformat": 4
 },
 "nbformat": 4,
 "nbformat_minor": 2
}
