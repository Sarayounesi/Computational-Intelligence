{
  "cells": [
    {
      "cell_type": "markdown",
      "metadata": {
        "id": "mqg4KSj_8Nz1"
      },
      "source": [
        "# In this notebook, we run an MLP model on dataset hoda and examine the results in terms of underfitting, fitting and overfitting."
      ]
    },
    {
      "cell_type": "markdown",
      "metadata": {
        "id": "IVk_5eoO76sj"
      },
      "source": [
        "## Download dataset"
      ]
    },
    {
      "cell_type": "code",
      "execution_count": 4,
      "metadata": {
        "colab": {
          "base_uri": "https://localhost:8080/"
        },
        "id": "TjoQGt01Ujx1",
        "outputId": "7d8271c2-a4e3-412a-e760-47f9c37d62e3"
      },
      "outputs": [
        {
          "name": "stdout",
          "output_type": "stream",
          "text": [
            "Downloading...\n",
            "From: https://drive.google.com/uc?id=1QJrQsEYOfPBn1LoIeYMZ2HFBRC0AY-6F\n",
            "To: /content/dataset.py\n",
            "100% 909/909 [00:00<00:00, 2.74MB/s]\n",
            "Downloading...\n",
            "From: https://drive.google.com/uc?id=1zStcaVl_34RrYIfVObuM4xzB6s8xwvBi\n",
            "To: /content/Data_hoda_full.mat\n",
            "100% 3.99M/3.99M [00:00<00:00, 148MB/s]\n"
          ]
        }
      ],
      "source": [
        "!gdown --fuzzy https://drive.google.com/file/d/1QJrQsEYOfPBn1LoIeYMZ2HFBRC0AY-6F/view?usp=sharing\n",
        "!gdown --fuzzy https://drive.google.com/file/d/1zStcaVl_34RrYIfVObuM4xzB6s8xwvBi/view?usp=sharing"
      ]
    },
    {
      "cell_type": "markdown",
      "metadata": {
        "id": "ruebTHNSBqRD"
      },
      "source": [
        "## Importing libraries"
      ]
    },
    {
      "cell_type": "code",
      "execution_count": 5,
      "metadata": {
        "id": "WhoXKRptiRDe"
      },
      "outputs": [],
      "source": [
        "import keras\n",
        "import numpy as np\n",
        "import matplotlib.pyplot as plt\n",
        "\n",
        "from keras.models import Sequential\n",
        "from keras.layers import Dense,  Activation\n",
        "from dataset import load_hoda\n",
        "from tensorflow.keras import layers\n",
        "from tensorflow.keras.layers import Input,Dense"
      ]
    },
    {
      "cell_type": "markdown",
      "metadata": {
        "id": "ku75DKlg_f9y"
      },
      "source": [
        "# Load dataset"
      ]
    },
    {
      "cell_type": "code",
      "execution_count": 6,
      "metadata": {
        "id": "4D7VhBCKiVWl"
      },
      "outputs": [],
      "source": [
        "x_train_original, y_train_original, x_test_original, y_test_original = load_hoda()"
      ]
    },
    {
      "cell_type": "markdown",
      "metadata": {
        "id": "Wruhn4AmB5zC"
      },
      "source": [
        "### Converting x_train and x_test to ndarray array format and converting y_train and y_test to one-hot-encoding:\n",
        "####First, we have defined a simple function that prints the dimensions, data type and information of the loaded dataset. We will print this information before and after data preprocessing to notice the changes!"
      ]
    },
    {
      "cell_type": "code",
      "execution_count": 7,
      "metadata": {
        "id": "nbSZTm93iVb9"
      },
      "outputs": [],
      "source": [
        "# Preprocess input data for Keras.\n",
        "x_train = np.array(x_train_original)\n",
        "y_train = keras.utils.to_categorical(y_train_original, num_classes=10)\n",
        "x_test = np.array(x_test_original)\n",
        "y_test = keras.utils.to_categorical(y_test_original, num_classes=10)"
      ]
    },
    {
      "cell_type": "code",
      "execution_count": 5,
      "metadata": {
        "colab": {
          "base_uri": "https://localhost:8080/"
        },
        "id": "rKbzGSxJ0mG6",
        "outputId": "9ee34439-6dd6-44de-d767-d3e4eaf76f79"
      },
      "outputs": [
        {
          "name": "stdout",
          "output_type": "stream",
          "text": [
            "(1000, 25)\n"
          ]
        }
      ],
      "source": [
        "print (x_train.shape)"
      ]
    },
    {
      "cell_type": "code",
      "execution_count": 8,
      "metadata": {
        "id": "u5Gvz63iiVZV"
      },
      "outputs": [],
      "source": [
        "def print_data_info(x_train, y_train, x_test, y_test):\n",
        "    #Check data Type\n",
        "    print (\"\\ttype(x_train): {}\".format(type(x_train)))\n",
        "    print (\"\\ttype(y_train): {}\".format(type(y_train)))\n",
        "\n",
        "    #check data Shape\n",
        "    print (\"\\tx_train.shape: {}\".format(np.shape(x_train)))\n",
        "    print (\"\\ty_train.shape: {}\".format(np.shape(y_train)))\n",
        "    print (\"\\tx_test.shape: {}\".format(np.shape(x_test)))\n",
        "    print (\"\\ty_test.shape: {}\".format(np.shape(y_test)))\n",
        "\n",
        "    #sample data\n",
        "    print (\"\\ty_train[0]: {}\".format(y_train[0]))"
      ]
    },
    {
      "cell_type": "code",
      "execution_count": 9,
      "metadata": {
        "colab": {
          "base_uri": "https://localhost:8080/"
        },
        "id": "0C5eJsmeiVe2",
        "outputId": "ae949ad6-7cb2-499c-dfa9-5ba15ecf6e56"
      },
      "outputs": [
        {
          "name": "stdout",
          "output_type": "stream",
          "text": [
            "Before Preprocessing:\n",
            "\ttype(x_train): <class 'numpy.ndarray'>\n",
            "\ttype(y_train): <class 'numpy.ndarray'>\n",
            "\tx_train.shape: (1000, 25)\n",
            "\ty_train.shape: (1000,)\n",
            "\tx_test.shape: (200, 25)\n",
            "\ty_test.shape: (200,)\n",
            "\ty_train[0]: 6\n",
            "After Preprocessing:\n",
            "\ttype(x_train): <class 'numpy.ndarray'>\n",
            "\ttype(y_train): <class 'numpy.ndarray'>\n",
            "\tx_train.shape: (1000, 25)\n",
            "\ty_train.shape: (1000, 10)\n",
            "\tx_test.shape: (200, 25)\n",
            "\ty_test.shape: (200, 10)\n",
            "\ty_train[0]: [0. 0. 0. 0. 0. 0. 1. 0. 0. 0.]\n"
          ]
        }
      ],
      "source": [
        "print(\"Before Preprocessing:\")\n",
        "print_data_info(x_train_original, y_train_original, x_test_original, y_test_original)\n",
        "print(\"After Preprocessing:\")\n",
        "print_data_info(x_train, y_train, x_test, y_test)"
      ]
    },
    {
      "cell_type": "code",
      "execution_count": 10,
      "metadata": {
        "id": "ignnQ8cqidv_"
      },
      "outputs": [],
      "source": [
        "x_train = x_train.astype('float32')\n",
        "x_test = x_test.astype('float32')\n",
        "x_train /= 255\n",
        "x_test /= 255"
      ]
    },
    {
      "cell_type": "code",
      "execution_count": 13,
      "metadata": {
        "id": "cEQisVlqidyt"
      },
      "outputs": [],
      "source": [
        "# In this Create the model, input dim=25 and output dim = 10\n",
        "\n",
        "##################################\n",
        "# you code here\n",
        "##################################\n",
        "# model = ...\n",
        "# input_shape=(x_train.shape, y_train.shape,)\n",
        "\n",
        "model = Sequential(\n",
        "    [\n",
        "        Input(shape=x_train.shape[1]),\n",
        "        layers.Dense(25, activation=\"relu\"),\n",
        "        layers.Dropout(0.5),\n",
        "        layers.Dense(10, activation=\"softmax\"),\n",
        "    ]\n",
        ")\n",
        "\n",
        "# OR\n",
        "# model = Sequential(\n",
        "#     [\n",
        "#         Dense(10, input_dim=25 , name=\"L1\"),\n",
        "\n",
        "#         Activation( \"softmax\"),\n",
        "#     ]\n",
        "# )\n",
        "\n",
        "\n",
        "#OR\n",
        "\n",
        "# model = Sequential()\n",
        "# model.add(Dense(10, input_dim=25 , name=\"L1\")),\n",
        "# model.add(Activation( \"softmax\")),\n",
        "\n",
        "\n"
      ]
    },
    {
      "cell_type": "code",
      "execution_count": 14,
      "metadata": {
        "colab": {
          "base_uri": "https://localhost:8080/"
        },
        "id": "gk4rIwjbid3W",
        "outputId": "7523acf9-6876-4056-9402-77b817a6cda3"
      },
      "outputs": [
        {
          "name": "stdout",
          "output_type": "stream",
          "text": [
            "Model: \"sequential_2\"\n",
            "_________________________________________________________________\n",
            " Layer (type)                Output Shape              Param #   \n",
            "=================================================================\n",
            " dense (Dense)               (None, 25)                650       \n",
            "                                                                 \n",
            " dropout (Dropout)           (None, 25)                0         \n",
            "                                                                 \n",
            " dense_1 (Dense)             (None, 10)                260       \n",
            "                                                                 \n",
            "=================================================================\n",
            "Total params: 910 (3.55 KB)\n",
            "Trainable params: 910 (3.55 KB)\n",
            "Non-trainable params: 0 (0.00 Byte)\n",
            "_________________________________________________________________\n"
          ]
        }
      ],
      "source": [
        "model.summary()"
      ]
    },
    {
      "cell_type": "markdown",
      "metadata": {
        "id": "XVBSerPdCxnL"
      },
      "source": [
        "## Compile model"
      ]
    },
    {
      "cell_type": "code",
      "execution_count": 15,
      "metadata": {
        "colab": {
          "base_uri": "https://localhost:8080/"
        },
        "id": "ZJVfanv2id52",
        "outputId": "c07f8e5e-c827-41b9-c5a5-c806e0e29720"
      },
      "outputs": [
        {
          "name": "stdout",
          "output_type": "stream",
          "text": [
            "Epoch 1/15\n",
            "8/8 [==============================] - 1s 40ms/step - loss: 2.5364 - accuracy: 0.0833 - val_loss: 2.3788 - val_accuracy: 0.0900\n",
            "Epoch 2/15\n",
            "8/8 [==============================] - 0s 8ms/step - loss: 2.4504 - accuracy: 0.1067 - val_loss: 2.3293 - val_accuracy: 0.1200\n",
            "Epoch 3/15\n",
            "8/8 [==============================] - 0s 7ms/step - loss: 2.3931 - accuracy: 0.1267 - val_loss: 2.2871 - val_accuracy: 0.1300\n",
            "Epoch 4/15\n",
            "8/8 [==============================] - 0s 8ms/step - loss: 2.3483 - accuracy: 0.1233 - val_loss: 2.2495 - val_accuracy: 0.1600\n",
            "Epoch 5/15\n",
            "8/8 [==============================] - 0s 7ms/step - loss: 2.3180 - accuracy: 0.1389 - val_loss: 2.2150 - val_accuracy: 0.2300\n",
            "Epoch 6/15\n",
            "8/8 [==============================] - 0s 10ms/step - loss: 2.2813 - accuracy: 0.1533 - val_loss: 2.1814 - val_accuracy: 0.2300\n",
            "Epoch 7/15\n",
            "8/8 [==============================] - 0s 14ms/step - loss: 2.2313 - accuracy: 0.1544 - val_loss: 2.1509 - val_accuracy: 0.2500\n",
            "Epoch 8/15\n",
            "8/8 [==============================] - 0s 11ms/step - loss: 2.2196 - accuracy: 0.1744 - val_loss: 2.1208 - val_accuracy: 0.2800\n",
            "Epoch 9/15\n",
            "8/8 [==============================] - 0s 15ms/step - loss: 2.1849 - accuracy: 0.1878 - val_loss: 2.0901 - val_accuracy: 0.2900\n",
            "Epoch 10/15\n",
            "8/8 [==============================] - 0s 13ms/step - loss: 2.1423 - accuracy: 0.1911 - val_loss: 2.0570 - val_accuracy: 0.3200\n",
            "Epoch 11/15\n",
            "8/8 [==============================] - 0s 11ms/step - loss: 2.1191 - accuracy: 0.2233 - val_loss: 2.0244 - val_accuracy: 0.3300\n",
            "Epoch 12/15\n",
            "8/8 [==============================] - 0s 13ms/step - loss: 2.0843 - accuracy: 0.2367 - val_loss: 1.9917 - val_accuracy: 0.4300\n",
            "Epoch 13/15\n",
            "8/8 [==============================] - 0s 13ms/step - loss: 2.0301 - accuracy: 0.2744 - val_loss: 1.9590 - val_accuracy: 0.4400\n",
            "Epoch 14/15\n",
            "8/8 [==============================] - 0s 10ms/step - loss: 2.0060 - accuracy: 0.2833 - val_loss: 1.9244 - val_accuracy: 0.4800\n",
            "Epoch 15/15\n",
            "8/8 [==============================] - 0s 10ms/step - loss: 1.9924 - accuracy: 0.2778 - val_loss: 1.8895 - val_accuracy: 0.4900\n"
          ]
        }
      ],
      "source": [
        "# In this cell compile mode, set loss function and optimizer and get metrics accuracy\n",
        "\n",
        "##################################\n",
        "# you code here\n",
        "##################################\n",
        "\n",
        "batch_size = 128\n",
        "epochs = 15\n",
        "\n",
        "model.compile(loss=\"categorical_crossentropy\", optimizer=\"adam\", metrics=[\"accuracy\"])\n",
        "\n",
        "history = model.fit(x_train, y_train, batch_size=batch_size, epochs=epochs, validation_split=0.1)\n",
        "\n"
      ]
    },
    {
      "cell_type": "markdown",
      "metadata": {
        "id": "Uz92ZcWOJFFU"
      },
      "source": [
        "## Fit model"
      ]
    },
    {
      "cell_type": "code",
      "execution_count": 16,
      "metadata": {
        "colab": {
          "base_uri": "https://localhost:8080/"
        },
        "id": "ZaKtROcxinbV",
        "outputId": "bd1d9b19-766e-430e-abc5-4caa2e023656"
      },
      "outputs": [
        {
          "name": "stdout",
          "output_type": "stream",
          "text": [
            "Epoch 1/100\n",
            "16/16 [==============================] - 0s 8ms/step - loss: 1.9600 - accuracy: 0.3030 - val_loss: 1.8185 - val_accuracy: 0.5650\n",
            "Epoch 2/100\n",
            "16/16 [==============================] - 0s 5ms/step - loss: 1.8615 - accuracy: 0.3460 - val_loss: 1.7417 - val_accuracy: 0.6200\n",
            "Epoch 3/100\n",
            "16/16 [==============================] - 0s 6ms/step - loss: 1.8030 - accuracy: 0.4000 - val_loss: 1.6669 - val_accuracy: 0.6500\n",
            "Epoch 4/100\n",
            "16/16 [==============================] - 0s 6ms/step - loss: 1.7331 - accuracy: 0.4060 - val_loss: 1.5936 - val_accuracy: 0.6850\n",
            "Epoch 5/100\n",
            "16/16 [==============================] - 0s 5ms/step - loss: 1.6641 - accuracy: 0.4540 - val_loss: 1.5204 - val_accuracy: 0.7250\n",
            "Epoch 6/100\n",
            "16/16 [==============================] - 0s 5ms/step - loss: 1.6215 - accuracy: 0.4760 - val_loss: 1.4502 - val_accuracy: 0.7450\n",
            "Epoch 7/100\n",
            "16/16 [==============================] - 0s 4ms/step - loss: 1.5577 - accuracy: 0.4890 - val_loss: 1.3810 - val_accuracy: 0.7650\n",
            "Epoch 8/100\n",
            "16/16 [==============================] - 0s 5ms/step - loss: 1.5387 - accuracy: 0.4980 - val_loss: 1.3182 - val_accuracy: 0.7650\n",
            "Epoch 9/100\n",
            "16/16 [==============================] - 0s 4ms/step - loss: 1.4964 - accuracy: 0.4970 - val_loss: 1.2612 - val_accuracy: 0.7900\n",
            "Epoch 10/100\n",
            "16/16 [==============================] - 0s 5ms/step - loss: 1.4482 - accuracy: 0.4990 - val_loss: 1.2094 - val_accuracy: 0.8000\n",
            "Epoch 11/100\n",
            "16/16 [==============================] - 0s 5ms/step - loss: 1.3960 - accuracy: 0.5460 - val_loss: 1.1577 - val_accuracy: 0.8100\n",
            "Epoch 12/100\n",
            "16/16 [==============================] - 0s 5ms/step - loss: 1.3482 - accuracy: 0.5520 - val_loss: 1.1117 - val_accuracy: 0.8200\n",
            "Epoch 13/100\n",
            "16/16 [==============================] - 0s 5ms/step - loss: 1.2908 - accuracy: 0.5790 - val_loss: 1.0706 - val_accuracy: 0.8250\n",
            "Epoch 14/100\n",
            "16/16 [==============================] - 0s 5ms/step - loss: 1.3012 - accuracy: 0.5790 - val_loss: 1.0313 - val_accuracy: 0.8200\n",
            "Epoch 15/100\n",
            "16/16 [==============================] - 0s 4ms/step - loss: 1.2739 - accuracy: 0.5740 - val_loss: 0.9974 - val_accuracy: 0.8300\n",
            "Epoch 16/100\n",
            "16/16 [==============================] - 0s 5ms/step - loss: 1.2148 - accuracy: 0.5980 - val_loss: 0.9628 - val_accuracy: 0.8250\n",
            "Epoch 17/100\n",
            "16/16 [==============================] - 0s 5ms/step - loss: 1.1956 - accuracy: 0.6110 - val_loss: 0.9325 - val_accuracy: 0.8250\n",
            "Epoch 18/100\n",
            "16/16 [==============================] - 0s 5ms/step - loss: 1.1537 - accuracy: 0.6240 - val_loss: 0.9039 - val_accuracy: 0.8300\n",
            "Epoch 19/100\n",
            "16/16 [==============================] - 0s 4ms/step - loss: 1.1811 - accuracy: 0.5840 - val_loss: 0.8760 - val_accuracy: 0.8300\n",
            "Epoch 20/100\n",
            "16/16 [==============================] - 0s 5ms/step - loss: 1.1555 - accuracy: 0.6010 - val_loss: 0.8535 - val_accuracy: 0.8350\n",
            "Epoch 21/100\n",
            "16/16 [==============================] - 0s 5ms/step - loss: 1.1106 - accuracy: 0.6530 - val_loss: 0.8301 - val_accuracy: 0.8350\n",
            "Epoch 22/100\n",
            "16/16 [==============================] - 0s 5ms/step - loss: 1.1042 - accuracy: 0.6290 - val_loss: 0.8115 - val_accuracy: 0.8300\n",
            "Epoch 23/100\n",
            "16/16 [==============================] - 0s 4ms/step - loss: 1.0999 - accuracy: 0.6190 - val_loss: 0.7938 - val_accuracy: 0.8400\n",
            "Epoch 24/100\n",
            "16/16 [==============================] - 0s 5ms/step - loss: 1.0665 - accuracy: 0.6560 - val_loss: 0.7772 - val_accuracy: 0.8500\n",
            "Epoch 25/100\n",
            "16/16 [==============================] - 0s 5ms/step - loss: 1.0761 - accuracy: 0.6570 - val_loss: 0.7592 - val_accuracy: 0.8550\n",
            "Epoch 26/100\n",
            "16/16 [==============================] - 0s 5ms/step - loss: 1.0209 - accuracy: 0.6530 - val_loss: 0.7414 - val_accuracy: 0.8650\n",
            "Epoch 27/100\n",
            "16/16 [==============================] - 0s 4ms/step - loss: 1.0306 - accuracy: 0.6550 - val_loss: 0.7266 - val_accuracy: 0.8650\n",
            "Epoch 28/100\n",
            "16/16 [==============================] - 0s 5ms/step - loss: 1.0696 - accuracy: 0.6390 - val_loss: 0.7108 - val_accuracy: 0.8700\n",
            "Epoch 29/100\n",
            "16/16 [==============================] - 0s 6ms/step - loss: 0.9753 - accuracy: 0.6890 - val_loss: 0.6931 - val_accuracy: 0.8750\n",
            "Epoch 30/100\n",
            "16/16 [==============================] - 0s 5ms/step - loss: 0.9964 - accuracy: 0.6660 - val_loss: 0.6806 - val_accuracy: 0.8700\n",
            "Epoch 31/100\n",
            "16/16 [==============================] - 0s 5ms/step - loss: 0.9886 - accuracy: 0.6620 - val_loss: 0.6693 - val_accuracy: 0.8750\n",
            "Epoch 32/100\n",
            "16/16 [==============================] - 0s 5ms/step - loss: 0.9701 - accuracy: 0.6790 - val_loss: 0.6564 - val_accuracy: 0.8750\n",
            "Epoch 33/100\n",
            "16/16 [==============================] - 0s 5ms/step - loss: 0.9702 - accuracy: 0.6790 - val_loss: 0.6458 - val_accuracy: 0.8750\n",
            "Epoch 34/100\n",
            "16/16 [==============================] - 0s 5ms/step - loss: 0.9481 - accuracy: 0.6580 - val_loss: 0.6375 - val_accuracy: 0.8700\n",
            "Epoch 35/100\n",
            "16/16 [==============================] - 0s 4ms/step - loss: 0.9366 - accuracy: 0.6940 - val_loss: 0.6301 - val_accuracy: 0.8800\n",
            "Epoch 36/100\n",
            "16/16 [==============================] - 0s 4ms/step - loss: 0.9313 - accuracy: 0.6790 - val_loss: 0.6203 - val_accuracy: 0.8750\n",
            "Epoch 37/100\n",
            "16/16 [==============================] - 0s 4ms/step - loss: 0.9010 - accuracy: 0.6960 - val_loss: 0.6108 - val_accuracy: 0.8800\n",
            "Epoch 38/100\n",
            "16/16 [==============================] - 0s 5ms/step - loss: 0.9145 - accuracy: 0.6830 - val_loss: 0.5985 - val_accuracy: 0.8850\n",
            "Epoch 39/100\n",
            "16/16 [==============================] - 0s 6ms/step - loss: 0.8675 - accuracy: 0.7200 - val_loss: 0.5890 - val_accuracy: 0.8850\n",
            "Epoch 40/100\n",
            "16/16 [==============================] - 0s 4ms/step - loss: 0.8964 - accuracy: 0.6960 - val_loss: 0.5789 - val_accuracy: 0.8850\n",
            "Epoch 41/100\n",
            "16/16 [==============================] - 0s 5ms/step - loss: 0.8690 - accuracy: 0.7060 - val_loss: 0.5698 - val_accuracy: 0.8850\n",
            "Epoch 42/100\n",
            "16/16 [==============================] - 0s 5ms/step - loss: 0.8909 - accuracy: 0.6870 - val_loss: 0.5632 - val_accuracy: 0.8850\n",
            "Epoch 43/100\n",
            "16/16 [==============================] - 0s 4ms/step - loss: 0.8634 - accuracy: 0.7100 - val_loss: 0.5569 - val_accuracy: 0.8900\n",
            "Epoch 44/100\n",
            "16/16 [==============================] - 0s 5ms/step - loss: 0.8563 - accuracy: 0.7200 - val_loss: 0.5500 - val_accuracy: 0.8900\n",
            "Epoch 45/100\n",
            "16/16 [==============================] - 0s 4ms/step - loss: 0.8613 - accuracy: 0.7130 - val_loss: 0.5410 - val_accuracy: 0.8900\n",
            "Epoch 46/100\n",
            "16/16 [==============================] - 0s 5ms/step - loss: 0.8318 - accuracy: 0.7120 - val_loss: 0.5331 - val_accuracy: 0.8950\n",
            "Epoch 47/100\n",
            "16/16 [==============================] - 0s 5ms/step - loss: 0.8529 - accuracy: 0.7010 - val_loss: 0.5258 - val_accuracy: 0.8950\n",
            "Epoch 48/100\n",
            "16/16 [==============================] - 0s 5ms/step - loss: 0.7903 - accuracy: 0.7290 - val_loss: 0.5206 - val_accuracy: 0.8950\n",
            "Epoch 49/100\n",
            "16/16 [==============================] - 0s 5ms/step - loss: 0.8377 - accuracy: 0.7020 - val_loss: 0.5157 - val_accuracy: 0.8950\n",
            "Epoch 50/100\n",
            "16/16 [==============================] - 0s 6ms/step - loss: 0.8296 - accuracy: 0.7200 - val_loss: 0.5125 - val_accuracy: 0.8900\n",
            "Epoch 51/100\n",
            "16/16 [==============================] - 0s 6ms/step - loss: 0.8227 - accuracy: 0.7200 - val_loss: 0.5072 - val_accuracy: 0.8900\n",
            "Epoch 52/100\n",
            "16/16 [==============================] - 0s 6ms/step - loss: 0.8208 - accuracy: 0.7080 - val_loss: 0.5016 - val_accuracy: 0.8950\n",
            "Epoch 53/100\n",
            "16/16 [==============================] - 0s 5ms/step - loss: 0.7595 - accuracy: 0.7420 - val_loss: 0.4923 - val_accuracy: 0.9000\n",
            "Epoch 54/100\n",
            "16/16 [==============================] - 0s 5ms/step - loss: 0.8067 - accuracy: 0.7220 - val_loss: 0.4852 - val_accuracy: 0.9000\n",
            "Epoch 55/100\n",
            "16/16 [==============================] - 0s 6ms/step - loss: 0.7765 - accuracy: 0.7360 - val_loss: 0.4791 - val_accuracy: 0.9000\n",
            "Epoch 56/100\n",
            "16/16 [==============================] - 0s 5ms/step - loss: 0.7939 - accuracy: 0.7390 - val_loss: 0.4744 - val_accuracy: 0.9000\n",
            "Epoch 57/100\n",
            "16/16 [==============================] - 0s 5ms/step - loss: 0.8029 - accuracy: 0.7250 - val_loss: 0.4723 - val_accuracy: 0.8950\n",
            "Epoch 58/100\n",
            "16/16 [==============================] - 0s 5ms/step - loss: 0.7669 - accuracy: 0.7330 - val_loss: 0.4700 - val_accuracy: 0.9050\n",
            "Epoch 59/100\n",
            "16/16 [==============================] - 0s 5ms/step - loss: 0.8145 - accuracy: 0.7350 - val_loss: 0.4684 - val_accuracy: 0.9000\n",
            "Epoch 60/100\n",
            "16/16 [==============================] - 0s 5ms/step - loss: 0.7597 - accuracy: 0.7410 - val_loss: 0.4645 - val_accuracy: 0.9050\n",
            "Epoch 61/100\n",
            "16/16 [==============================] - 0s 5ms/step - loss: 0.7438 - accuracy: 0.7400 - val_loss: 0.4588 - val_accuracy: 0.9100\n",
            "Epoch 62/100\n",
            "16/16 [==============================] - 0s 4ms/step - loss: 0.7695 - accuracy: 0.7300 - val_loss: 0.4539 - val_accuracy: 0.9100\n",
            "Epoch 63/100\n",
            "16/16 [==============================] - 0s 5ms/step - loss: 0.7369 - accuracy: 0.7520 - val_loss: 0.4505 - val_accuracy: 0.9050\n",
            "Epoch 64/100\n",
            "16/16 [==============================] - 0s 4ms/step - loss: 0.7426 - accuracy: 0.7480 - val_loss: 0.4455 - val_accuracy: 0.9050\n",
            "Epoch 65/100\n",
            "16/16 [==============================] - 0s 4ms/step - loss: 0.7452 - accuracy: 0.7650 - val_loss: 0.4426 - val_accuracy: 0.9050\n",
            "Epoch 66/100\n",
            "16/16 [==============================] - 0s 4ms/step - loss: 0.7375 - accuracy: 0.7380 - val_loss: 0.4389 - val_accuracy: 0.9050\n",
            "Epoch 67/100\n",
            "16/16 [==============================] - 0s 5ms/step - loss: 0.7390 - accuracy: 0.7450 - val_loss: 0.4359 - val_accuracy: 0.9050\n",
            "Epoch 68/100\n",
            "16/16 [==============================] - 0s 4ms/step - loss: 0.7160 - accuracy: 0.7590 - val_loss: 0.4316 - val_accuracy: 0.9050\n",
            "Epoch 69/100\n",
            "16/16 [==============================] - 0s 6ms/step - loss: 0.7270 - accuracy: 0.7320 - val_loss: 0.4281 - val_accuracy: 0.9000\n",
            "Epoch 70/100\n",
            "16/16 [==============================] - 0s 5ms/step - loss: 0.7107 - accuracy: 0.7640 - val_loss: 0.4224 - val_accuracy: 0.9000\n",
            "Epoch 71/100\n",
            "16/16 [==============================] - 0s 5ms/step - loss: 0.7285 - accuracy: 0.7430 - val_loss: 0.4197 - val_accuracy: 0.9000\n",
            "Epoch 72/100\n",
            "16/16 [==============================] - 0s 6ms/step - loss: 0.7136 - accuracy: 0.7500 - val_loss: 0.4188 - val_accuracy: 0.9000\n",
            "Epoch 73/100\n",
            "16/16 [==============================] - 0s 5ms/step - loss: 0.7247 - accuracy: 0.7470 - val_loss: 0.4167 - val_accuracy: 0.9000\n",
            "Epoch 74/100\n",
            "16/16 [==============================] - 0s 5ms/step - loss: 0.7066 - accuracy: 0.7490 - val_loss: 0.4134 - val_accuracy: 0.9050\n",
            "Epoch 75/100\n",
            "16/16 [==============================] - 0s 5ms/step - loss: 0.6779 - accuracy: 0.7640 - val_loss: 0.4113 - val_accuracy: 0.9050\n",
            "Epoch 76/100\n",
            "16/16 [==============================] - 0s 5ms/step - loss: 0.6906 - accuracy: 0.7540 - val_loss: 0.4077 - val_accuracy: 0.9050\n",
            "Epoch 77/100\n",
            "16/16 [==============================] - 0s 6ms/step - loss: 0.7218 - accuracy: 0.7450 - val_loss: 0.4070 - val_accuracy: 0.9050\n",
            "Epoch 78/100\n",
            "16/16 [==============================] - 0s 5ms/step - loss: 0.7162 - accuracy: 0.7460 - val_loss: 0.4053 - val_accuracy: 0.9050\n",
            "Epoch 79/100\n",
            "16/16 [==============================] - 0s 6ms/step - loss: 0.6848 - accuracy: 0.7620 - val_loss: 0.4022 - val_accuracy: 0.9000\n",
            "Epoch 80/100\n",
            "16/16 [==============================] - 0s 6ms/step - loss: 0.7129 - accuracy: 0.7490 - val_loss: 0.3992 - val_accuracy: 0.9050\n",
            "Epoch 81/100\n",
            "16/16 [==============================] - 0s 4ms/step - loss: 0.6652 - accuracy: 0.7810 - val_loss: 0.3960 - val_accuracy: 0.9000\n",
            "Epoch 82/100\n",
            "16/16 [==============================] - 0s 5ms/step - loss: 0.6866 - accuracy: 0.7590 - val_loss: 0.3937 - val_accuracy: 0.9050\n",
            "Epoch 83/100\n",
            "16/16 [==============================] - 0s 4ms/step - loss: 0.6800 - accuracy: 0.7710 - val_loss: 0.3922 - val_accuracy: 0.9050\n",
            "Epoch 84/100\n",
            "16/16 [==============================] - 0s 5ms/step - loss: 0.7134 - accuracy: 0.7460 - val_loss: 0.3913 - val_accuracy: 0.9050\n",
            "Epoch 85/100\n",
            "16/16 [==============================] - 0s 6ms/step - loss: 0.6676 - accuracy: 0.7770 - val_loss: 0.3887 - val_accuracy: 0.9050\n",
            "Epoch 86/100\n",
            "16/16 [==============================] - 0s 5ms/step - loss: 0.6543 - accuracy: 0.7700 - val_loss: 0.3866 - val_accuracy: 0.9100\n",
            "Epoch 87/100\n",
            "16/16 [==============================] - 0s 6ms/step - loss: 0.6277 - accuracy: 0.7800 - val_loss: 0.3833 - val_accuracy: 0.9100\n",
            "Epoch 88/100\n",
            "16/16 [==============================] - 0s 6ms/step - loss: 0.6809 - accuracy: 0.7580 - val_loss: 0.3812 - val_accuracy: 0.9100\n",
            "Epoch 89/100\n",
            "16/16 [==============================] - 0s 5ms/step - loss: 0.6582 - accuracy: 0.7700 - val_loss: 0.3799 - val_accuracy: 0.9100\n",
            "Epoch 90/100\n",
            "16/16 [==============================] - 0s 5ms/step - loss: 0.6529 - accuracy: 0.7670 - val_loss: 0.3780 - val_accuracy: 0.9000\n",
            "Epoch 91/100\n",
            "16/16 [==============================] - 0s 4ms/step - loss: 0.6662 - accuracy: 0.7650 - val_loss: 0.3758 - val_accuracy: 0.9100\n",
            "Epoch 92/100\n",
            "16/16 [==============================] - 0s 5ms/step - loss: 0.6616 - accuracy: 0.7740 - val_loss: 0.3765 - val_accuracy: 0.9000\n",
            "Epoch 93/100\n",
            "16/16 [==============================] - 0s 4ms/step - loss: 0.6629 - accuracy: 0.7620 - val_loss: 0.3753 - val_accuracy: 0.9100\n",
            "Epoch 94/100\n",
            "16/16 [==============================] - 0s 5ms/step - loss: 0.6692 - accuracy: 0.7670 - val_loss: 0.3724 - val_accuracy: 0.8950\n",
            "Epoch 95/100\n",
            "16/16 [==============================] - 0s 7ms/step - loss: 0.6305 - accuracy: 0.7710 - val_loss: 0.3704 - val_accuracy: 0.9050\n",
            "Epoch 96/100\n",
            "16/16 [==============================] - 0s 8ms/step - loss: 0.6336 - accuracy: 0.7610 - val_loss: 0.3691 - val_accuracy: 0.9150\n",
            "Epoch 97/100\n",
            "16/16 [==============================] - 0s 8ms/step - loss: 0.6435 - accuracy: 0.7640 - val_loss: 0.3660 - val_accuracy: 0.9150\n",
            "Epoch 98/100\n",
            "16/16 [==============================] - 0s 7ms/step - loss: 0.6305 - accuracy: 0.7850 - val_loss: 0.3646 - val_accuracy: 0.9150\n",
            "Epoch 99/100\n",
            "16/16 [==============================] - 0s 8ms/step - loss: 0.6526 - accuracy: 0.7720 - val_loss: 0.3634 - val_accuracy: 0.9100\n",
            "Epoch 100/100\n",
            "16/16 [==============================] - 0s 6ms/step - loss: 0.6230 - accuracy: 0.7780 - val_loss: 0.3632 - val_accuracy: 0.9100\n"
          ]
        }
      ],
      "source": [
        "MLP_model = model.fit(x_train, y_train,\n",
        "          epochs=100,\n",
        "          batch_size=64, validation_data=(x_test, y_test))"
      ]
    },
    {
      "cell_type": "code",
      "execution_count": 13,
      "metadata": {
        "colab": {
          "base_uri": "https://localhost:8080/",
          "height": 451
        },
        "id": "SveCNiLkisTF",
        "outputId": "9ac51d35-08f8-41c1-a45f-8522c337ee16"
      },
      "outputs": [
        {
          "data": {
            "text/plain": [
              "[<matplotlib.lines.Line2D at 0x797bb43b45b0>]"
            ]
          },
          "execution_count": 13,
          "metadata": {},
          "output_type": "execute_result"
        },
        {
          "data": {
            "image/png": "[encoded data removed]",
            "text/plain": [
              "<Figure size 640x480 with 1 Axes>"
            ]
          },
          "metadata": {},
          "output_type": "display_data"
        }
      ],
      "source": [
        "# plot Loss\n",
        "plt.plot(MLP_model.history[\"loss\"])\n",
        "plt.plot(MLP_model.history[\"val_loss\"])"
      ]
    },
    {
      "cell_type": "code",
      "execution_count": 14,
      "metadata": {
        "colab": {
          "base_uri": "https://localhost:8080/",
          "height": 447
        },
        "id": "Cx3VubunisVh",
        "outputId": "0d8c9e7b-c499-498e-d171-e1a67afff242"
      },
      "outputs": [
        {
          "data": {
            "text/plain": [
              "[<matplotlib.lines.Line2D at 0x797bb4fe0280>]"
            ]
          },
          "execution_count": 14,
          "metadata": {},
          "output_type": "execute_result"
        },
        {
          "data": {
            "image/png": "[encoded data removed]",
            "text/plain": [
              "<Figure size 640x480 with 1 Axes>"
            ]
          },
          "metadata": {},
          "output_type": "display_data"
        }
      ],
      "source": [
        "# plot accuracy\n",
        "plt.plot(MLP_model.history[\"accuracy\"])\n",
        "plt.plot(MLP_model.history[\"val_accuracy\"])"
      ]
    }
  ],
  "metadata": {
    "colab": {
      "provenance": []
    },
    "kernelspec": {
      "display_name": "Python 3",
      "name": "python3"
    },
    "language_info": {
      "codemirror_mode": {
        "name": "ipython",
        "version": 3
      },
      "file_extension": ".py",
      "mimetype": "text/x-python",
      "name": "python",
      "nbconvert_exporter": "python",
      "pygments_lexer": "ipython3",
      "version": "3.10.8"
    }
  },
  "nbformat": 4,
  "nbformat_minor": 0
}
