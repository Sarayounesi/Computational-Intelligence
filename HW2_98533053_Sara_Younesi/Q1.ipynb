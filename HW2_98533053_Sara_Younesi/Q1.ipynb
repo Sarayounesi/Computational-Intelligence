{
 "cells": [
  {
   "cell_type": "code",
   "execution_count": 27,
   "metadata": {},
   "outputs": [
    {
     "name": "stdout",
     "output_type": "stream",
     "text": [
      "lable_1 : -1,lable_2 : 1,lable_3 : 1,lable_4: 1\n",
      "_____________________________________________________________________________________________\n",
      "_____________________________________________________________________________________________\n",
      "predicted was: -0.5262771846909429, actual label was: -1\n",
      "predicted was: 0.1418793428647928, actual label was: 1\n",
      "predicted was: 0.2581206571352072, actual label was: 1\n",
      "predicted was: 0.926277184690943, actual label was: 1\n"
     ]
    }
   ],
   "source": [
    "import numpy as np\n",
    "import matplotlib.pyplot as plt\n",
    "# Define the NAND gate input-output pairs\n",
    "x = np.array([[1, 1], [1, -1], [-1, 1], [-1, -1]])\n",
    "y = np.array([-1, 1, 1, 1])\n",
    "# print(y.type)\n",
    "\n",
    "print( \"lable_1 : {},lable_2 : {},lable_3 : {},lable_4: {}\".format(y[0],y[1],y[2],y[3] ))\n",
    "print(\"_____________________________________________________________________________________________\")\n",
    "print(\"_____________________________________________________________________________________________\")\n",
    "# Define the Adaline neuron architecture\n",
    "input_layer_size = 2\n",
    "output_layer_size = 1\n",
    "\n",
    "# Initialize the weights and bias randomly (Bias=0.1)\n",
    "w1 = np.random.uniform(low=0, high=1, size=(1,))\n",
    "w2 = np.random.uniform(low=0, high=1, size=(1,))\n",
    "bias = 0.1\n",
    "\n",
    "# Define the activation function\n",
    "def activation(x):\n",
    "    return 1 if x >= 0 else 0\n",
    "\n",
    "# Define the forward propagation\n",
    "# Train the Adaline neuron in 4 epochs\n",
    "\n",
    "\n",
    "for epoch in range(4):\n",
    "  for i in range(len(x)):\n",
    "    data = x[i]\n",
    "    # z = sigma(wi * xi) + w0\n",
    "    yy = w1 * data[0] + w2 * data[1] + bias\n",
    "    y_predicted=activation(yy)\n",
    "    \n",
    "    # Define the backward propagation \n",
    "    learning_rate = 0.1\n",
    "    w1 += learning_rate * (y[i] - y_predicted) * data[0]\n",
    "    w2 += learning_rate * (y[i] - y_predicted) * data[1]\n",
    "    bias += learning_rate * (y[i] - y_predicted)\n",
    "\n",
    "# Test the Adaline neuron on new inputs\n",
    "for i in range(len(x)):\n",
    "  y_predicted = w1 * x[i][0] + w2 * x[i][1] + bias\n",
    "  print(\"predicted was: {}, actual label was: {}\".format(y_predicted[0], y[i]))"
   ]
  }
 ],
 "metadata": {
  "kernelspec": {
   "display_name": "base",
   "language": "python",
   "name": "python3"
  },
  "language_info": {
   "codemirror_mode": {
    "name": "ipython",
    "version": 3
   },
   "file_extension": ".py",
   "mimetype": "text/x-python",
   "name": "python",
   "nbconvert_exporter": "python",
   "pygments_lexer": "ipython3",
   "version": "3.9.13"
  }
 },
 "nbformat": 4,
 "nbformat_minor": 2
}
