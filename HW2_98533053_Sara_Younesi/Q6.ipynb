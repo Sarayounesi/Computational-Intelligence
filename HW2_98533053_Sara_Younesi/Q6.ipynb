{
  "cells": [
    {
      "cell_type": "markdown",
      "metadata": {},
      "source": [
        "Number of total class 0 , 1,2,..,9\n"
      ]
    },
    {
      "cell_type": "code",
      "execution_count": 1,
      "metadata": {
        "id": "OKbs1kceABqD"
      },
      "outputs": [],
      "source": [
        "from tensorflow.keras import datasets\n",
        "from tensorflow.keras.utils import to_categorical\n",
        "import matplotlib.pyplot as plt\n",
        "import numpy as np\n",
        "from tensorflow.keras.preprocessing.image import ImageDataGenerator\n",
        "from tensorflow.keras import layers\n",
        "from tensorflow.keras.utils import plot_model\n",
        "from tensorflow.keras.models import Sequential\n",
        "from tensorflow.keras.optimizers import SGD\n",
        "from tensorflow.keras.models import Model\n",
        "from tensorflow.keras.layers import Input,Dense\n"
      ]
    },
    {
      "cell_type": "markdown",
      "metadata": {},
      "source": [
        "Load dataset"
      ]
    },
    {
      "cell_type": "code",
      "execution_count": 3,
      "metadata": {
        "colab": {
          "base_uri": "https://localhost:8080/"
        },
        "id": "hD3-rSLeABqG",
        "outputId": "2bc97efd-e5e4-400a-83ba-87ea75300f99"
      },
      "outputs": [
        {
          "name": "stdout",
          "output_type": "stream",
          "text": [
            "Downloading data from https://storage.googleapis.com/tensorflow/tf-keras-datasets/mnist.npz\n",
            "11490434/11490434 [==============================] - 0s 0us/step\n"
          ]
        }
      ],
      "source": [
        "num_classes = 10\n",
        "input_shape = (28, 28, 1)\n",
        "\n",
        "# Load the data and split it between train and test sets\n",
        "(x_train, y_train), (x_test, y_test) = datasets.mnist.load_data()\n",
        "\n",
        "# Scale images to the [0, 1] range\n",
        "x_train = x_train.astype(\"float32\") / 255\n",
        "x_test = x_test.astype(\"float32\") / 255"
      ]
    },
    {
      "cell_type": "markdown",
      "metadata": {},
      "source": [
        "Convert to categorical"
      ]
    },
    {
      "cell_type": "code",
      "execution_count": 4,
      "metadata": {
        "id": "vbgwpHL-ABqG"
      },
      "outputs": [],
      "source": [
        "y_train = to_categorical(y_train, num_classes)\n",
        "y_test = to_categorical(y_test, num_classes)\n"
      ]
    },
    {
      "cell_type": "markdown",
      "metadata": {},
      "source": [
        "Sequential mode & Model summary"
      ]
    },
    {
      "cell_type": "code",
      "execution_count": 5,
      "metadata": {
        "colab": {
          "base_uri": "https://localhost:8080/"
        },
        "id": "31EYlZygABqG",
        "outputId": "488ba1e1-ade0-4e82-ec52-c25cdbf5f107"
      },
      "outputs": [
        {
          "name": "stdout",
          "output_type": "stream",
          "text": [
            "Model: \"sequential\"\n",
            "_________________________________________________________________\n",
            " Layer (type)                Output Shape              Param #   \n",
            "=================================================================\n",
            " conv2d (Conv2D)             (None, 26, 26, 32)        320       \n",
            "                                                                 \n",
            " max_pooling2d (MaxPooling2  (None, 13, 13, 32)        0         \n",
            " D)                                                              \n",
            "                                                                 \n",
            " conv2d_1 (Conv2D)           (None, 11, 11, 64)        18496     \n",
            "                                                                 \n",
            " max_pooling2d_1 (MaxPoolin  (None, 5, 5, 64)          0         \n",
            " g2D)                                                            \n",
            "                                                                 \n",
            " flatten (Flatten)           (None, 1600)              0         \n",
            "                                                                 \n",
            " dropout (Dropout)           (None, 1600)              0         \n",
            "                                                                 \n",
            " dense (Dense)               (None, 10)                16010     \n",
            "                                                                 \n",
            "=================================================================\n",
            "Total params: 34826 (136.04 KB)\n",
            "Trainable params: 34826 (136.04 KB)\n",
            "Non-trainable params: 0 (0.00 Byte)\n",
            "_________________________________________________________________\n"
          ]
        }
      ],
      "source": [
        "model = Sequential(\n",
        "    [\n",
        "        Input(shape=input_shape),\n",
        "        layers.Conv2D(32, kernel_size=(3, 3), activation=\"relu\"),\n",
        "        layers.MaxPooling2D(pool_size=(2, 2)),\n",
        "        layers.Conv2D(64, kernel_size=(3, 3), activation=\"relu\"),\n",
        "        layers.MaxPooling2D(pool_size=(2, 2)),\n",
        "        layers.Flatten(),\n",
        "        layers.Dropout(0.5),\n",
        "        layers.Dense(num_classes, activation=\"softmax\"),\n",
        "    ]\n",
        ")\n",
        "\n",
        "\n",
        "model_temp = Sequential()\n",
        "\n",
        "# Input Layer\n",
        "# model_temp.add(layers.Dense(128, input_shape=(x_train.shape[1] * x_train.shape[2],)))\n",
        "# model_temp.add(layers.Activation('relu'))\n",
        "\n",
        "# Hidden Layer\n",
        "# model_temp.add(layers.Dense(128))\n",
        "# model_temp.add(layers.Activation('relu'))\n",
        "\n",
        "# Output Layer\n",
        "# model_temp.add(layers.Dense(10))\n",
        "# model_temp.add(layers.Activation('softmax'))\n",
        "\n",
        "model.summary()"
      ]
    },
    {
      "cell_type": "markdown",
      "metadata": {},
      "source": [
        "Compile model & Train model"
      ]
    },
    {
      "cell_type": "code",
      "execution_count": 6,
      "metadata": {
        "colab": {
          "base_uri": "https://localhost:8080/"
        },
        "id": "r09fauXeABqH",
        "outputId": "3bbe2c01-ed8d-408b-e4fd-2bd381695c36"
      },
      "outputs": [
        {
          "name": "stdout",
          "output_type": "stream",
          "text": [
            "Epoch 1/15\n",
            "422/422 [==============================] - 42s 96ms/step - loss: 0.3588 - accuracy: 0.8910 - val_loss: 0.0840 - val_accuracy: 0.9757\n",
            "Epoch 2/15\n",
            "422/422 [==============================] - 41s 96ms/step - loss: 0.1139 - accuracy: 0.9652 - val_loss: 0.0577 - val_accuracy: 0.9842\n",
            "Epoch 3/15\n",
            "422/422 [==============================] - 40s 94ms/step - loss: 0.0837 - accuracy: 0.9741 - val_loss: 0.0496 - val_accuracy: 0.9870\n",
            "Epoch 4/15\n",
            "422/422 [==============================] - 40s 94ms/step - loss: 0.0687 - accuracy: 0.9789 - val_loss: 0.0424 - val_accuracy: 0.9887\n",
            "Epoch 5/15\n",
            "422/422 [==============================] - 39s 93ms/step - loss: 0.0595 - accuracy: 0.9812 - val_loss: 0.0403 - val_accuracy: 0.9890\n",
            "Epoch 6/15\n",
            "422/422 [==============================] - 39s 93ms/step - loss: 0.0554 - accuracy: 0.9826 - val_loss: 0.0338 - val_accuracy: 0.9913\n",
            "Epoch 7/15\n",
            "422/422 [==============================] - 39s 92ms/step - loss: 0.0504 - accuracy: 0.9838 - val_loss: 0.0354 - val_accuracy: 0.9915\n",
            "Epoch 8/15\n",
            "422/422 [==============================] - 40s 95ms/step - loss: 0.0463 - accuracy: 0.9853 - val_loss: 0.0363 - val_accuracy: 0.9887\n",
            "Epoch 9/15\n",
            "422/422 [==============================] - 41s 98ms/step - loss: 0.0416 - accuracy: 0.9866 - val_loss: 0.0326 - val_accuracy: 0.9917\n",
            "Epoch 10/15\n",
            "422/422 [==============================] - 39s 92ms/step - loss: 0.0407 - accuracy: 0.9871 - val_loss: 0.0306 - val_accuracy: 0.9918\n",
            "Epoch 11/15\n",
            "422/422 [==============================] - 39s 91ms/step - loss: 0.0385 - accuracy: 0.9877 - val_loss: 0.0307 - val_accuracy: 0.9918\n",
            "Epoch 12/15\n",
            "422/422 [==============================] - 40s 94ms/step - loss: 0.0381 - accuracy: 0.9879 - val_loss: 0.0301 - val_accuracy: 0.9920\n",
            "Epoch 13/15\n",
            "422/422 [==============================] - 39s 93ms/step - loss: 0.0344 - accuracy: 0.9888 - val_loss: 0.0323 - val_accuracy: 0.9918\n",
            "Epoch 14/15\n",
            "422/422 [==============================] - 39s 92ms/step - loss: 0.0335 - accuracy: 0.9897 - val_loss: 0.0284 - val_accuracy: 0.9923\n",
            "Epoch 15/15\n",
            "422/422 [==============================] - 40s 96ms/step - loss: 0.0310 - accuracy: 0.9900 - val_loss: 0.0336 - val_accuracy: 0.9908\n"
          ]
        }
      ],
      "source": [
        "batch_size = 128\n",
        "epochs = 15\n",
        "\n",
        "model.compile(loss=\"categorical_crossentropy\", optimizer=\"adam\", metrics=[\"accuracy\"])\n",
        "\n",
        "history = model.fit(x_train, y_train, batch_size=batch_size, epochs=epochs, validation_split=0.1)\n"
      ]
    },
    {
      "cell_type": "markdown",
      "metadata": {},
      "source": [
        "Plot accuracy & Plot loss"
      ]
    },
    {
      "cell_type": "code",
      "execution_count": 7,
      "metadata": {
        "colab": {
          "base_uri": "https://localhost:8080/",
          "height": 489
        },
        "id": "3--DJYQvABqH",
        "outputId": "9c0ad02c-dc8d-4b93-d077-166b39f5cad9"
      },
      "outputs": [
        {
          "data": {
            "text/plain": [
              "<matplotlib.legend.Legend at 0x79b5441b71c0>"
            ]
          },
          "execution_count": 7,
          "metadata": {},
          "output_type": "execute_result"
        },
        {
          "data": {
            "image/png": "[encoded data removed]",
            "text/plain": [
              "<Figure size 640x480 with 2 Axes>"
            ]
          },
          "metadata": {},
          "output_type": "display_data"
        }
      ],
      "source": [
        "fig, (ax1, ax2) = plt.subplots(1, 2)\n",
        "ax1.plot(history.history['accuracy'])\n",
        "ax1.plot(history.history['val_accuracy'])\n",
        "ax1.set_title('Model accuracy')\n",
        "ax1.set_ylabel('accuracy')\n",
        "ax1.set_xlabel('epoch')\n",
        "ax1.legend(['training', 'validation'], loc='lower right')\n",
        "\n",
        "ax2.plot(history.history['loss'])\n",
        "ax2.plot(history.history['val_loss'])\n",
        "ax2.set_title('Model loss')\n",
        "ax2.set_ylabel('loss')\n",
        "ax2.set_xlabel('epoch')\n",
        "ax2.legend(['training', 'validation'], loc='upper right')"
      ]
    }
  ],
  "metadata": {
    "colab": {
      "provenance": [],
      "toc_visible": true
    },
    "kernelspec": {
      "display_name": "base",
      "language": "python",
      "name": "python3"
    },
    "language_info": {
      "codemirror_mode": {
        "name": "ipython",
        "version": 3
      },
      "file_extension": ".py",
      "mimetype": "text/x-python",
      "name": "python",
      "nbconvert_exporter": "python",
      "pygments_lexer": "ipython3",
      "version": "3.9.13"
    }
  },
  "nbformat": 4,
  "nbformat_minor": 0
}
