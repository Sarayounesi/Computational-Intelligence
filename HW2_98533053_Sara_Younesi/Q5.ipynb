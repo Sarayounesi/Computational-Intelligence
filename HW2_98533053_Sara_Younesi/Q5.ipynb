{
 "cells": [
  {
   "cell_type": "markdown",
   "metadata": {},
   "source": [
    "Define basic functions"
   ]
  },
  {
   "cell_type": "code",
   "execution_count": 233,
   "metadata": {},
   "outputs": [],
   "source": [
    "import numpy as np\n",
    "import matplotlib.pyplot as plt\n",
    "\n",
    "# sigmoid(z) = 1 \\ 1 + e^-z\n",
    "def sigmoid(z):\n",
    "  return 1 / (1 + np.exp(-z))\n",
    "\n",
    "# E (y,  y_hat) = -y ln(y_hat) - (1-y) ln(1-y_hat)\n",
    "def CEE(y_predicted, y):\n",
    "  if y == 1:\n",
    "    return -1 * np.log(y_predicted)\n",
    "  else:\n",
    "    return -1 * np.log(1 - y_predicted)\n",
    "\n",
    "# dsig(z) / dz = sig(z)(1 - sig(z))\n",
    "def dsigmoid(z):\n",
    "  return z * (1 - z)\n",
    "\n",
    "# dE / dy_predicted = -(y / y_predictes) + ((1-y) / (1 - y_predicted))\n",
    "def dCEE(y_predicted, y):\n",
    "  if y == 1:\n",
    "    return -1 / y_predicted\n",
    "  else:\n",
    "    return 1 / (1 - y_predicted)"
   ]
  },
  {
   "cell_type": "markdown",
   "metadata": {},
   "source": [
    "Plot XNOR"
   ]
  },
  {
   "cell_type": "code",
   "execution_count": 234,
   "metadata": {},
   "outputs": [
    {
     "data": {
      "image/png": "[encoded data removed]",
      "text/plain": [
       "<Figure size 300x300 with 2 Axes>"
      ]
     },
     "metadata": {},
     "output_type": "display_data"
    }
   ],
   "source": [
    "# dataset\n",
    "x = np.array([[0, 0], [0, 1], [1, 0], [1, 1]])\n",
    "y = np.array([1, 0, 0, 1])\n",
    "# Plot\n",
    "fig = plt.figure(figsize=(3, 3))\n",
    "plt.title('The XNOR Gate', fontsize=20)\n",
    "ax = fig.add_subplot(111)\n",
    "# red: class 0, blue: class 1.\n",
    "ax.scatter(0, 0, s=200, c='b', label=\"Class 1\")\n",
    "ax.scatter(0, 5, s=200, c='r', label=\"Class 0\")\n",
    "ax.scatter(5, 0, s=200, c='r', label=\"Class 0\")\n",
    "ax.scatter(5, 5, s=200, c='b', label=\"Class 1\")\n",
    "plt.grid()\n",
    "plt.show()\n",
    "     "
   ]
  },
  {
   "cell_type": "markdown",
   "metadata": {},
   "source": [
    " Creating a three layers NN by using mathematical 'numpy' library\n",
    " Using methods from the library to operate with matrices\n",
    " Importing 'matplotlib' library to plot experimental results in form of figures\n",
    " Importing 'numpy' library"
   ]
  },
  {
   "cell_type": "code",
   "execution_count": 235,
   "metadata": {},
   "outputs": [],
   "source": [
    "\n",
    "import numpy as np\n",
    "import matplotlib.pyplot as plt\n",
    "\n",
    "\n",
    "\n",
    "class NeuralNetwork():\n",
    "    def __init__(self):\n",
    "\n",
    "        np.random.seed(1)\n",
    "\n",
    "      \n",
    "        self.weights_0_1 = 2 * np.random.random((3, 4)) - 1\n",
    "        self.weights_1_2 = 2 * np.random.random((4, 1)) - 1\n",
    "\n",
    "    \n",
    "        self.layer_2 = np.array([])\n",
    "\n",
    "   \n",
    "    def sigmoid(self, x):\n",
    "        return 1 / (1 + np.exp(-x))\n",
    "\n",
    "    def derivative_of_sigmoid(self, x):\n",
    "        return x * (1 - x)\n",
    "    \n",
    "\n",
    "    def run_nn(self, set_of_inputs):\n",
    "       \n",
    "        layer_0 = set_of_inputs  \n",
    "        layer_1 = self.sigmoid(np.dot(layer_0, self.weights_0_1)) \n",
    "        layer_2 = self.sigmoid(np.dot(layer_1, self.weights_1_2))  \n",
    "        return layer_2\n",
    "\n",
    " \n",
    "    def training_process(self, set_of_inputs_for_training, set_of_outputs_for_training, epochs):\n",
    "    \n",
    "        errors = []\n",
    "        for i in range(epochs):\n",
    "       \n",
    "            layer_0 = set_of_inputs_for_training \n",
    "            layer_1 = self.sigmoid(np.dot(layer_0, self.weights_0_1)) \n",
    "            self.layer_2 = self.sigmoid(np.dot(layer_1, self.weights_1_2))  \n",
    "\n",
    "        \n",
    "            layer_2_error = set_of_outputs_for_training - self.layer_2\n",
    "            \n",
    "            errors.append(np.mean(np.abs(layer_2_error)))\n",
    "     \n",
    "            if (i % 500) == 0:\n",
    "                print('Final error after', i, 'epoch =', np.mean(np.abs(layer_2_error)))\n",
    "\n",
    "\n",
    "            # Calculating delta for output layer (Layer 2)\n",
    "            # Using sign '*' instead of function 'dot' of numpy library\n",
    "    \n",
    "\n",
    "            delta_2 = layer_2_error * self.derivative_of_sigmoid(self.layer_2)\n",
    "\n",
    "            # Calculating an error for hidden layer (Layer 1)\n",
    "            # Multiplying delta_2 by weights between hidden layer and output layer\n",
    "           \n",
    "            layer_1_error = np.dot(delta_2, self.weights_1_2.T)\n",
    "\n",
    "            # Calculating delta for hidden layer (Layer 1)\n",
    "            delta_1 = layer_1_error * self.derivative_of_sigmoid(layer_1)\n",
    "\n",
    "            # Implementing corrections of weights\n",
    "            self.weights_1_2 += np.dot(layer_1.T, delta_2)\n",
    "            self.weights_0_1 += np.dot(layer_0.T, delta_1)\n",
    "            \n",
    "        return errors\n",
    "\n"
   ]
  },
  {
   "cell_type": "markdown",
   "metadata": {},
   "source": [
    " Create matrix 1x4 and transpose it to matrix 4x1 at the same time\n",
    " Creating three layers NN by initializing of instance of the class\n",
    " Starting the training process with data above and number of repetitions of 5000\n",
    " Showing the output results after training\n",
    " After training process was finished and weights are adjusted we can test NN"
   ]
  },
  {
   "cell_type": "code",
   "execution_count": 236,
   "metadata": {},
   "outputs": [
    {
     "name": "stdout",
     "output_type": "stream",
     "text": [
      "Final error after 0 epoch = 0.5035899680972746\n",
      "Final error after 500 epoch = 0.11276292277178596\n",
      "Final error after 1000 epoch = 0.04919636361412779\n",
      "Final error after 1500 epoch = 0.03532123858452277\n",
      "Final error after 2000 epoch = 0.028683045919303228\n",
      "Final error after 2500 epoch = 0.024637702262591363\n",
      "Final error after 3000 epoch = 0.021853643867947945\n",
      "Final error after 3500 epoch = 0.019791311427645494\n",
      "Final error after 4000 epoch = 0.018186317007655432\n",
      "Final error after 4500 epoch = 0.016892254711503706\n",
      "\n",
      "Output results after training:\n",
      "[[0.98519849]\n",
      " [0.01661128]\n",
      " [0.986557  ]\n",
      " [0.01843516]]\n",
      "\n",
      "Output result for testing data =  [0.01072646]\n"
     ]
    },
    {
     "data": {
      "text/plain": [
       "[<matplotlib.lines.Line2D at 0x15dfb2921f0>]"
      ]
     },
     "execution_count": 236,
     "metadata": {},
     "output_type": "execute_result"
    },
    {
     "data": {
      "image/png": "[encoded data removed]",
      "text/plain": [
       "<Figure size 640x480 with 1 Axes>"
      ]
     },
     "metadata": {},
     "output_type": "display_data"
    }
   ],
   "source": [
    "input_set_for_training = np.array([[1, 1, 1], [1, 0, 1], [0, 0, 1], [0, 1, 1]])\n",
    "\n",
    "output_set_for_training = np.array([[1, 0, 1, 0]]).T\n",
    "\n",
    "\n",
    "nn = NeuralNetwork()\n",
    "\n",
    "\n",
    "\n",
    "errors = nn.training_process(input_set_for_training, output_set_for_training, 5000)\n",
    "\n",
    "\n",
    "print()\n",
    "print('Output results after training:')\n",
    "print(nn.layer_2)\n",
    "print()\n",
    "\n",
    "\n",
    "\n",
    "print('Output result for testing data = ', nn.run_nn(np.array([1, 0, 0])))\n",
    "\n",
    "\n",
    "\n",
    "\n",
    "\n",
    "\n",
    "# fig = plt.figure()\n",
    "plt.plot(errors)"
   ]
  },
  {
   "cell_type": "markdown",
   "metadata": {},
   "source": [
    " Using 'seed' for the random generator\n",
    " Modeling three layers Neural Network\n",
    "\n",
    "        Input layer (Layer 0) has three parameters  Hidden layer (Layer 1) has four neurons   Output layer (Layer 2) has one neuron\n",
    "\n",
    "        Initializing weights between input and hidden layers\n",
    "        The values of the weights are in range from -1 to 1\n",
    "\n",
    "        \n",
    "            We receive matrix 3x4 of weights (3 inputs in Layer 0 and 4 neurons in Layer 1)\n",
    "\n",
    "       Initializing weights between hidden and output layers\n",
    "       The values of the weights are in range from -1 to 1\n",
    "\n",
    "       \n",
    "            We receive matrix 4x1 of weights (4 neurons in Layer 1 and 1 neuron in Layer 2)\n",
    "\n",
    "Creating a variable for storing matrix with output results\n",
    "    "
   ]
  },
  {
   "cell_type": "code",
   "execution_count": 237,
   "metadata": {},
   "outputs": [],
   "source": [
    "class NeuralNetwork():\n",
    "    def __init__(self):\n",
    "        np.random.seed(1)\n",
    "\n",
    "        \n",
    "        self.weights_0_1 = 2 * np.random.random((3, 4)) - 1\n",
    "        self.weights_1_2 = 2 * np.random.random((4, 1)) - 1\n",
    "\n",
    "        \n",
    "        self.layer_2 = np.array([])"
   ]
  },
  {
   "cell_type": "markdown",
   "metadata": {},
   "source": [
    "   Creating function for normalizing weights and other results by Sigmoid curve\n",
    "    Creating function for calculating a derivative of Sigmoid function (gradient of Sigmoid curve)\n",
    "    Which is going to be used for back propagation - correction of the weights\n",
    "    This derivative shows how good is the current weights"
   ]
  },
  {
   "cell_type": "code",
   "execution_count": 238,
   "metadata": {},
   "outputs": [],
   "source": [
    " \n",
    "    def sigmoid(self, x):\n",
    "        return 1 / (1 + np.exp(-x))\n",
    "\n",
    " \n",
    "    def derivative_of_sigmoid(self, x):\n",
    "        return x * (1 - x)"
   ]
  },
  {
   "cell_type": "markdown",
   "metadata": {},
   "source": [
    "  Creating function for running and testing NN after training\n",
    "       Feed forward through three layers in NN\n",
    "         Results are returned in normalized form in appropriate dimensions"
   ]
  },
  {
   "cell_type": "code",
   "execution_count": 239,
   "metadata": {},
   "outputs": [],
   "source": [
    "    def run_nn(self, set_of_inputs):\n",
    "   \n",
    "        layer_0 = set_of_inputs  \n",
    "        layer_1 = self.sigmoid(np.dot(layer_0, self.weights_0_1))  \n",
    "        layer_2 = self.sigmoid(np.dot(layer_1, self.weights_1_2))  \n",
    "        return layer_2"
   ]
  },
  {
   "cell_type": "markdown",
   "metadata": {},
   "source": [
    "             Feeding our NN with training set and calculating output\n",
    "             Feed forward through three layers in NN\n",
    "             With 'numpy' library and function 'dot' we multiply matrices with values in layers to appropriate weights\n",
    "             Results are returned in normalized form in appropriate dimensions\n",
    "             Creating function for training the NN\n",
    "             Using Backpropagation for calculating values to correct weights\n",
    "             Calculating an error for output layer (Layer 2) which is the difference between desired output and obtained output\n",
    "             We subtract matrix 4x1 of received outputs from matrix 4x1 of desired outputs"
   ]
  },
  {
   "cell_type": "code",
   "execution_count": 240,
   "metadata": {},
   "outputs": [],
   "source": [
    "    def training_process(self, set_of_inputs_for_training, set_of_outputs_for_training, epochs):\n",
    "        errors = []\n",
    "        for i in range(epochs):\n",
    "\n",
    "            layer_0 = set_of_inputs_for_training  \n",
    "            layer_1 = self.sigmoid(np.dot(layer_0, self.weights_0_1))  \n",
    "            self.layer_2 = self.sigmoid(np.dot(layer_1, self.weights_1_2)) \n",
    "\n",
    "            layer_2_error = set_of_outputs_for_training - self.layer_2\n",
    "            \n",
    "            errors.append(np.mean(np.abs(layer_2_error)))"
   ]
  },
  {
   "cell_type": "markdown",
   "metadata": {},
   "source": [
    "      Showing the error each 500 iterations to track the improvements"
   ]
  },
  {
   "cell_type": "code",
   "execution_count": 241,
   "metadata": {},
   "outputs": [],
   "source": [
    "        if (i % 500) == 0:\n",
    "                print('Final error after', i, 'epoch =', np.mean(np.abs(layer_2_error)))"
   ]
  },
  {
   "cell_type": "markdown",
   "metadata": {},
   "source": [
    "Calculating delta for output layer (Layer 2)\n",
    "            Using sign '*' instead of function 'dot' of numpy library\n",
    "            In this way matrix 4x1 will be multiplied by matrix 4x1 element by element\n",
    "\n",
    "Calculating an error for hidden layer (Layer 1)\n",
    "            Multiplying delta_2 by weights between hidden layer and output layer\n",
    "            Shows us how much hidden layer (Layer 1) influences on to the layer_2_error\n",
    "\n",
    "\n",
    "            Calculating delta for hidden layer (Layer 1)\n",
    "            Implementing corrections of weights"
   ]
  }
 ],
 "metadata": {
  "kernelspec": {
   "display_name": "base",
   "language": "python",
   "name": "python3"
  },
  "language_info": {
   "codemirror_mode": {
    "name": "ipython",
    "version": 3
   },
   "file_extension": ".py",
   "mimetype": "text/x-python",
   "name": "python",
   "nbconvert_exporter": "python",
   "pygments_lexer": "ipython3",
   "version": "3.9.13"
  }
 },
 "nbformat": 4,
 "nbformat_minor": 2
}
